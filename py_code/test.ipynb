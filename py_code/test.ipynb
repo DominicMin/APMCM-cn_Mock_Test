{
 "cells": [
  {
   "cell_type": "code",
   "execution_count": 5,
   "metadata": {},
   "outputs": [],
   "source": [
    "import numpy as np"
   ]
  },
  {
   "cell_type": "code",
   "execution_count": 6,
   "metadata": {},
   "outputs": [],
   "source": [
    "class Plane:\n",
    "    def __init__(self,pt1,pt2,pt3,pt4):\n",
    "        self.pt1 = pt1 #Tuple\n",
    "        self.pt2 = pt2\n",
    "        self.pt3 = pt3\n",
    "        self.pt4 = pt4\n",
    "        self.area=None\n",
    "    \n",
    "    @staticmethod\n",
    "    def get_length(pt1,pt2):\n",
    "        return ((pt1[0]-pt2[0])**2+(pt1[1]-pt2[1])**2+(pt1[2]-pt2[2])**2)**0.5\n",
    "    \n",
    "    @staticmethod\n",
    "    def heron_area(pt1,pt2,pt3):\n",
    "        l1_2=Plane.get_length(pt1,pt2)\n",
    "        l2_3=Plane.get_length(pt2,pt3)\n",
    "        l1_3=Plane.get_length(pt1,pt3)\n",
    "        m=(l1_2+l2_3+l1_3)/3\n",
    "        return (m*(m-l1_2)*(m-l2_3)*(m-l1_3))**0.5\n",
    "    \n",
    "    def get_area(self):\n",
    "        s1=Plane.heron_area(self.pt1,self.pt2,self.pt3)\n",
    "        s2=Plane.heron_area(self.pt2,self.pt3,self.pt4)\n",
    "        return s1+s2"
   ]
  },
  {
   "cell_type": "code",
   "execution_count": 7,
   "metadata": {},
   "outputs": [],
   "source": [
    "wing=Plane(\n",
    "    (493,804,0),\n",
    "    (1566.074,1326.589,0),\n",
    "    (1571.505,1103.902,0),\n",
    "    (493,444.957,0)\n",
    ")"
   ]
  },
  {
   "cell_type": "code",
   "execution_count": 8,
   "metadata": {},
   "outputs": [
    {
     "data": {
      "text/plain": [
       "528586.2394821462"
      ]
     },
     "execution_count": 8,
     "metadata": {},
     "output_type": "execute_result"
    }
   ],
   "source": [
    "wing.get_area()"
   ]
  },
  {
   "cell_type": "code",
   "execution_count": null,
   "metadata": {},
   "outputs": [],
   "source": []
  }
 ],
 "metadata": {
  "kernelspec": {
   "display_name": "Python 3",
   "language": "python",
   "name": "python3"
  },
  "language_info": {
   "codemirror_mode": {
    "name": "ipython",
    "version": 3
   },
   "file_extension": ".py",
   "mimetype": "text/x-python",
   "name": "python",
   "nbconvert_exporter": "python",
   "pygments_lexer": "ipython3",
   "version": "3.12.6"
  }
 },
 "nbformat": 4,
 "nbformat_minor": 2
}
